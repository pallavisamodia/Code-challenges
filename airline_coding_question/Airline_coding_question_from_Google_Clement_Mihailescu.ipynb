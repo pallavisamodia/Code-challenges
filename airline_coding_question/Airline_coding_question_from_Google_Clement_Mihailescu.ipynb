{
 "cells": [
  {
   "cell_type": "markdown",
   "metadata": {},
   "source": [
    "Prompt: Write a function to find the minimum number of connections (one-way flights) to add that you allow as an airline to enable any passenger to go from LGA to any other airport. They don't have to go directly from LGA to their destination airport. Answer is 3 \n",
    "Source: https://www.youtube.com/watch?v=qz9tKlF431k"
   ]
  },
  {
   "cell_type": "markdown",
   "metadata": {},
   "source": [
    "I will be using Python here and not creating the mapping of airports to unique integer IDs instead i will just be using dictionaries throughout since it is much easier to create dictionary mapping in Python than C++, and use various functions on it."
   ]
  },
  {
   "attachments": {
    "SCC.png": {
     "image/png": "[encoded data removed]"
    }
   },
   "cell_type": "markdown",
   "metadata": {},
   "source": [
    "Notes: \n",
    "We are looking at an Acyclic A-directed graph. The reason it has to be acyclic is because if say there is a cycle betwween different areas then they all need to be compressed to one super-connected area. We need to make sure that from our starting airport, all the nodes are connected. If there are aiports with no incoming routes from starting point or anywhere (that is indegree = 0, outdegree is number of outgoing routes), that is essentially the answer to the connections that we need to add.\n",
    "\n",
    "Adjacency list: It is representation of graph as an array of lists of lists\n",
    "\n",
    "Algorithm implemented: Kosaraju's algorith to find Super Connected Components SCC. More on that here: http://www.kylesauri.com/home/kosarajus-algorithm-in-python-3 Though in my opinion, William Lin in the original youtube video explained it better than any of these long descriptions.![SCC.png](attachment:SCC.png) Hereby shown SCC's marked for a random diagram from GeeksForGeeks https://www.geeksforgeeks.org/strongly-connected-components/\n",
    "\n"
   ]
  },
  {
   "cell_type": "code",
   "execution_count": 1,
   "metadata": {},
   "outputs": [],
   "source": [
    "#input values\n",
    "airports = [\n",
    "    \"BGI\",\"CDG\",\"DEL\",\"DOH\",\"DSM\",\"EWR\",\"EYW\",\"HND\",\"ICN\",\n",
    "    \"JFK\",\"LGA\",\"LHR\",\"ORD\",\"SAN\",\"SFO\",\"SIN\",\"TLV\",\"BUD\"\n",
    "]\n",
    "\n",
    "routes =[\n",
    "    [\"DSM\",\"ORD\"],\n",
    "    [\"ORD\",\"BGI\"],\n",
    "    [\"BGI\",\"LGA\"],\n",
    "    [\"SIN\",\"CDG\"],\n",
    "    [\"CDG\",\"SIN\"],\n",
    "    [\"CDG\",\"BUD\"],\n",
    "    [\"DEL\",\"DOH\"],\n",
    "    [\"DEL\",\"CDG\"],\n",
    "    [\"TLV\",\"DEL\"],\n",
    "    [\"EWR\",\"HND\"],\n",
    "    [\"HND\",\"ICN\"],\n",
    "    [\"HND\",\"JFK\"],\n",
    "    [\"ICN\",\"JFK\"],\n",
    "    [\"JFK\",\"LGA\"],\n",
    "    [\"EYW\",\"LHR\"],\n",
    "    [\"LHR\",\"SFO\"],\n",
    "    [\"SFO\",\"SAN\"],\n",
    "    [\"SFO\",\"DSM\"],\n",
    "    [\"SAN\",\"EYW\"]\n",
    "]\n",
    "\n",
    "startingAirport = \"LGA\""
   ]
  },
  {
   "cell_type": "code",
   "execution_count": 104,
   "metadata": {},
   "outputs": [],
   "source": [
    "from collections import defaultdict"
   ]
  },
  {
   "cell_type": "code",
   "execution_count": 220,
   "metadata": {},
   "outputs": [],
   "source": [
    "def minimumNumberOfConnections(airports,routes,startingAirport):\n",
    "    #process input\n",
    "    airport_list = []\n",
    "    for airport in airports:\n",
    "        airport_list.append(airport)\n",
    "        \n",
    "    # Adjacency list: iterating over list of tuples \n",
    "    airport_graph = defaultdict(list) \n",
    "    for key, val in routes: \n",
    "        airport_graph[key].append(val) \n",
    "\n",
    "    #find strongly connected components  \n",
    "    #reverse Adjacency list\n",
    "    rev_airport_graph = defaultdict(list) \n",
    "    for key, val in routes: \n",
    "        rev_airport_graph[val].append(key) \n",
    "      \n",
    "    #dfs traversal\n",
    "    stack = []\n",
    "    visited = set()\n",
    "    \n",
    "    def dfs1(node):\n",
    "        visited.add(node)\n",
    "        for connection in airport_graph[node]:\n",
    "            if connection not in visited:\n",
    "                dfs1(connection)\n",
    "        stack.append(node)\n",
    "            \n",
    "    for i in airport_list:\n",
    "        if i not in visited:\n",
    "            dfs1(i)\n",
    "            \n",
    "   #compress the graph based on components    \n",
    "    visited2 = set()\n",
    "    who = dict() #Arbitrarily selected representative nodes of \n",
    "                 #super connected components\n",
    "    \n",
    "    def dfs2(node, rep):\n",
    "        visited2.add(node)\n",
    "        who[node] = rep\n",
    "        for connection in rev_airport_graph[node]:\n",
    "            if connection not in visited2:\n",
    "                dfs2(connection, rep)\n",
    "            \n",
    "    while len(stack) != 0:\n",
    "        u = stack[-1]\n",
    "        stack.pop()\n",
    "        if u not in visited2:\n",
    "            dfs2(u, u)\n",
    "    \n",
    "    #find number of nodes with indegree = 0 which are not the starting point in the new graph\n",
    "    indegree = defaultdict(lambda: 0)\n",
    "    for i in airport_list:\n",
    "        for j in airport_graph[i]:\n",
    "            if(who[i]!=who[j]):    \n",
    "                indegree[j] +=1    \n",
    "    \"\"\"\n",
    "    checking they both are in different components.\n",
    "    This will give indegrees of all the nodes in the new condensed graph\n",
    "    \"\"\"\n",
    "                  \n",
    "                \n",
    "    ans = []\n",
    "    for i in airport_list:\n",
    "        if(who[i]==i and indegree[i]==0 and i != startingAirport):\n",
    "            ans.append(i)\n",
    "        #we are doing who[i] because only need to go through representative nodes of the condensed graphs\n",
    "        \n",
    "    return ans\n"
   ]
  },
  {
   "cell_type": "code",
   "execution_count": 221,
   "metadata": {},
   "outputs": [
    {
     "data": {
      "text/plain": [
       "['EWR', 'EYW', 'TLV']"
      ]
     },
     "execution_count": 221,
     "metadata": {},
     "output_type": "execute_result"
    }
   ],
   "source": [
    "x = minimumNumberOfConnections(airports,routes,startingAirport)\n",
    "x"
   ]
  },
  {
   "cell_type": "code",
   "execution_count": null,
   "metadata": {},
   "outputs": [],
   "source": []
  },
  {
   "cell_type": "code",
   "execution_count": null,
   "metadata": {},
   "outputs": [],
   "source": []
  },
  {
   "cell_type": "code",
   "execution_count": null,
   "metadata": {},
   "outputs": [],
   "source": []
  }
 ],
 "metadata": {
  "kernelspec": {
   "display_name": "Python 3",
   "language": "python",
   "name": "python3"
  },
  "language_info": {
   "codemirror_mode": {
    "name": "ipython",
    "version": 3
   },
   "file_extension": ".py",
   "mimetype": "text/x-python",
   "name": "python",
   "nbconvert_exporter": "python",
   "pygments_lexer": "ipython3",
   "version": "3.7.6"
  }
 },
 "nbformat": 4,
 "nbformat_minor": 4
}
